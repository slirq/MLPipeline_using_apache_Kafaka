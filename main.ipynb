{
 "cells": [
  {
   "cell_type": "markdown",
   "metadata": {},
   "source": [
    "# Vector.Ai Project\n",
    "## part 1 Creating and training and model\n",
    "### importing the models \n",
    "\n",
    "if the user doesnt have any of the necessary libraries, he can uncomment the below cell to download the missing libraries"
   ]
  },
  {
   "cell_type": "code",
   "execution_count": null,
   "metadata": {},
   "outputs": [],
   "source": [
    "\"\"\"!pip install tensorflow\n",
    "!pip install keras\n",
    "!pip install shutil\"\"\""
   ]
  },
  {
   "cell_type": "code",
   "execution_count": 1,
   "metadata": {},
   "outputs": [
    {
     "name": "stdout",
     "output_type": "stream",
     "text": [
      "2.7.0\n"
     ]
    }
   ],
   "source": [
    "import os\n",
    "import zipfile\n",
    "import random\n",
    "import pandas as pd\n",
    "import shutil\n",
    "import numpy as np\n",
    "import tensorflow as tf\n",
    "from tensorflow.keras.optimizers import RMSprop\n",
    "from tensorflow.keras.preprocessing.image import ImageDataGenerator\n",
    "from shutil import copyfile\n",
    "from os import getcwd\n",
    "import keras\n",
    "from tensorflow.keras.utils import to_categorical\n",
    "print(tf.version.VERSION)\n",
    "physical_devices = tf.config.experimental.list_physical_devices('GPU')\n",
    "if len(physical_devices) > 0:\n",
    "    tf.config.experimental.set_memory_growth(physical_devices[0], True)\n"
   ]
  },
  {
   "cell_type": "markdown",
   "metadata": {},
   "source": [
    "## Loading the model and pre-processing\n",
    "### We have two ways of loading the Mnist model\n",
    "#### 1. import using keras method in the below box ( but this method becoms rigid and uncustomisable for other data\n",
    "we load the model using keras convinient loading method, normalise the pixel values and one hot encode the labels for multiclass classification"
   ]
  },
  {
   "cell_type": "code",
   "execution_count": 2,
   "metadata": {},
   "outputs": [],
   "source": [
    "# pre-defined way for fashion-mnist\n",
    "\n",
    "(x_train, y_train), (x_test, y_test) = tf.keras.datasets.fashion_mnist.load_data()\n",
    "assert x_train.shape == (60000, 28, 28)\n",
    "assert x_test.shape == (10000, 28, 28)\n",
    "assert y_train.shape == (60000,)\n",
    "assert y_test.shape == (10000,)"
   ]
  },
  {
   "cell_type": "markdown",
   "metadata": {},
   "source": [
    "#### 2. OR directly load the data from the csv file as hosted on the internet. This method is much more flexible for diferent dataset"
   ]
  },
  {
   "cell_type": "code",
   "execution_count": 3,
   "metadata": {},
   "outputs": [],
   "source": [
    "\n",
    "train_df = pd.read_csv('./fashion-mnist_train.csv',sep=',') # change these csv destination to custom dataset \n",
    "test_df = pd.read_csv('./fashion-mnist_test.csv', sep = ',')#with the assumption of label column is at the end\n",
    "\n",
    "\n",
    "train_data = np.array(train_df, dtype = 'float32')\n",
    "test_data = np.array(test_df, dtype='float32')\n",
    "x_train = train_data[:,1:]/255\n",
    "y_train = train_data[:,0]\n",
    "x_test= test_data[:,1:]/255\n",
    "y_test=test_data[:,0]"
   ]
  },
  {
   "cell_type": "markdown",
   "metadata": {},
   "source": [
    "## Pre-process the data"
   ]
  },
  {
   "cell_type": "code",
   "execution_count": 4,
   "metadata": {},
   "outputs": [
    {
     "name": "stdout",
     "output_type": "stream",
     "text": [
      "(60000, 28, 28, 1) (10000, 28, 28, 1) (60000, 10) (10000, 10)\n"
     ]
    }
   ],
   "source": [
    "trainX = x_train.reshape((x_train.shape[0], 28, 28, 1))\n",
    "testX = x_test.reshape((x_test.shape[0], 28, 28, 1))\n",
    "trainX = trainX/255\n",
    "testX = testX/255\n",
    "trainY = to_categorical(y_train,10)\n",
    "testY =to_categorical(y_test,10)\n",
    "print(trainX.shape,testX.shape,trainY.shape,testY.shape)"
   ]
  },
  {
   "cell_type": "markdown",
   "metadata": {},
   "source": [
    "dynamically get the number of classes in the dataset and get name of classes.\n",
    "##### The labels list can be changes for custom class names starting with index 0 "
   ]
  },
  {
   "cell_type": "code",
   "execution_count": 5,
   "metadata": {},
   "outputs": [
    {
     "name": "stdout",
     "output_type": "stream",
     "text": [
      "total classes =  10\n"
     ]
    }
   ],
   "source": [
    "labels = [\"top\", \"Trouser\", \"Pullover\", \"Dress\", \"Coat\", \"Sandal\", \"Shirt\", \"Sneaker\", \"Bag\", \"Ankle boot\"]\n",
    "no_of_labels = testY.shape[-1]\n",
    "print(\"total classes = \",no_of_labels)"
   ]
  },
  {
   "cell_type": "markdown",
   "metadata": {},
   "source": [
    "# Visual representation\n",
    "to make things bit intereseting here is one of the image we are working with. They are grayscaled with a pixel size of 28x28"
   ]
  },
  {
   "cell_type": "code",
   "execution_count": 6,
   "metadata": {},
   "outputs": [
    {
     "data": {
      "text/plain": [
       "<matplotlib.image.AxesImage at 0x210d3059748>"
      ]
     },
     "execution_count": 6,
     "metadata": {},
     "output_type": "execute_result"
    },
    {
     "data": {
      "image/png": "[encoded data removed]",
      "text/plain": [
       "<Figure size 432x288 with 1 Axes>"
      ]
     },
     "metadata": {
      "needs_background": "light"
     },
     "output_type": "display_data"
    }
   ],
   "source": [
    "import matplotlib.pyplot as plt\n",
    "%matplotlib inline\n",
    "plt.imshow(x_train[0].reshape((28,28)))"
   ]
  },
  {
   "cell_type": "markdown",
   "metadata": {},
   "source": [
    "## Model Training"
   ]
  },
  {
   "cell_type": "markdown",
   "metadata": {},
   "source": [
    "Running the below code would compile the neural network architecture and give an insight of the parameters and structure of the Neural network."
   ]
  },
  {
   "cell_type": "code",
   "execution_count": 7,
   "metadata": {},
   "outputs": [
    {
     "name": "stdout",
     "output_type": "stream",
     "text": [
      "Model: \"sequential\"\n",
      "_________________________________________________________________\n",
      " Layer (type)                Output Shape              Param #   \n",
      "=================================================================\n",
      " conv2d (Conv2D)             (None, 26, 26, 8)         80        \n",
      "                                                                 \n",
      " max_pooling2d (MaxPooling2D  (None, 13, 13, 8)        0         \n",
      " )                                                               \n",
      "                                                                 \n",
      " conv2d_1 (Conv2D)           (None, 12, 12, 4)         132       \n",
      "                                                                 \n",
      " max_pooling2d_1 (MaxPooling  (None, 6, 6, 4)          0         \n",
      " 2D)                                                             \n",
      "                                                                 \n",
      " flatten (Flatten)           (None, 144)               0         \n",
      "                                                                 \n",
      " dense (Dense)               (None, 10)                1450      \n",
      "                                                                 \n",
      "=================================================================\n",
      "Total params: 1,662\n",
      "Trainable params: 1,662\n",
      "Non-trainable params: 0\n",
      "_________________________________________________________________\n"
     ]
    }
   ],
   "source": [
    "model = tf.keras.models.Sequential([\n",
    "    tf.keras.layers.Conv2D(8, (3, 3), activation='relu', input_shape=(trainX.shape[1], trainX.shape[2], trainX.shape[3])),\n",
    "    tf.keras.layers.MaxPooling2D(2, 2),\n",
    "    tf.keras.layers.Conv2D(4, (2, 2), activation='relu'),\n",
    "    tf.keras.layers.MaxPooling2D(2, 2),\n",
    "    tf.keras.layers.Flatten(),\n",
    "    tf.keras.layers.Dense(no_of_labels, activation='softmax')\n",
    "\n",
    "])\n",
    "\n",
    "model.compile(optimizer='adam', loss='categorical_crossentropy', metrics=['acc'])\n",
    "model.summary()"
   ]
  },
  {
   "cell_type": "markdown",
   "metadata": {},
   "source": [
    "The below method will initialise the training process. to increase the speed of the training time the user can reduce the epochs or increase the batch size. Although doing this might effect the accuracy. I have also implemented a custom callback function called saver which only save the best weight according to the validation accuracy. Thus by-passing overfitting"
   ]
  },
  {
   "cell_type": "code",
   "execution_count": 28,
   "metadata": {},
   "outputs": [
    {
     "name": "stdout",
     "output_type": "stream",
     "text": [
      "Epoch 1/20\n",
      "469/469 [==============================] - 9s 18ms/step - loss: 0.9548 - acc: 0.6648 - val_loss: 0.6251 - val_acc: 0.7725\n",
      "Epoch 2/20\n",
      "469/469 [==============================] - 8s 16ms/step - loss: 0.5548 - acc: 0.7963 - val_loss: 0.5432 - val_acc: 0.8014oss: 0.5561 - acc:\n",
      "Epoch 3/20\n",
      "469/469 [==============================] - 8s 16ms/step - loss: 0.5023 - acc: 0.8157 - val_loss: 0.5021 - val_acc: 0.8157\n",
      "Epoch 4/20\n",
      "469/469 [==============================] - 8s 16ms/step - loss: 0.4744 - acc: 0.8263 - val_loss: 0.4872 - val_acc: 0.8196\n",
      "Epoch 5/20\n",
      "469/469 [==============================] - 8s 16ms/step - loss: 0.4575 - acc: 0.8321 - val_loss: 0.4686 - val_acc: 0.8272\n",
      "Epoch 6/20\n",
      "469/469 [==============================] - 8s 16ms/step - loss: 0.4439 - acc: 0.8385 - val_loss: 0.4620 - val_acc: 0.8289\n",
      "Epoch 7/20\n",
      "469/469 [==============================] - 8s 16ms/step - loss: 0.4313 - acc: 0.8436 - val_loss: 0.4604 - val_acc: 0.8327\n",
      "Epoch 8/20\n",
      "469/469 [==============================] - 8s 16ms/step - loss: 0.4212 - acc: 0.8471 - val_loss: 0.4465 - val_acc: 0.83984s - loss: 0.4 - ETA: 3s - loss: 0.4262 - a - ETA: 2s - loss: 0.4264 -  - - ETA: 0s - loss: 0.4212 - acc: 0.847\n",
      "Epoch 9/20\n",
      "469/469 [==============================] - 8s 16ms/step - loss: 0.4105 - acc: 0.8515 - val_loss: 0.4280 - val_acc: 0.8456\n",
      "Epoch 10/20\n",
      "469/469 [==============================] - 8s 16ms/step - loss: 0.4004 - acc: 0.8555 - val_loss: 0.4273 - val_acc: 0.8448\n",
      "Epoch 11/20\n",
      "469/469 [==============================] - 8s 16ms/step - loss: 0.3937 - acc: 0.8589 - val_loss: 0.4222 - val_acc: 0.8495\n",
      "Epoch 12/20\n",
      "469/469 [==============================] - 8s 16ms/step - loss: 0.3864 - acc: 0.8618 - val_loss: 0.4060 - val_acc: 0.8558\n",
      "Epoch 13/20\n",
      "469/469 [==============================] - 8s 16ms/step - loss: 0.3800 - acc: 0.8644 - val_loss: 0.4053 - val_acc: 0.8523\n",
      "Epoch 14/20\n",
      "469/469 [==============================] - 8s 16ms/step - loss: 0.3740 - acc: 0.8650 - val_loss: 0.4054 - val_acc: 0.8570\n",
      "Epoch 15/20\n",
      "469/469 [==============================] - 8s 16ms/step - loss: 0.3717 - acc: 0.8670 - val_loss: 0.3947 - val_acc: 0.8585\n",
      "Epoch 16/20\n",
      "469/469 [==============================] - 8s 16ms/step - loss: 0.3665 - acc: 0.8677 - val_loss: 0.3996 - val_acc: 0.8541\n",
      "Epoch 17/20\n",
      "469/469 [==============================] - 7s 16ms/step - loss: 0.3627 - acc: 0.8701 - val_loss: 0.3966 - val_acc: 0.8563\n",
      "Epoch 18/20\n",
      "469/469 [==============================] - 8s 17ms/step - loss: 0.3581 - acc: 0.8715 - val_loss: 0.3810 - val_acc: 0.8647ETA: 1s - loss:\n",
      "Epoch 19/20\n",
      "469/469 [==============================] - 8s 17ms/step - loss: 0.3551 - acc: 0.8724 - val_loss: 0.3909 - val_acc: 0.8611\n",
      "Epoch 20/20\n",
      "469/469 [==============================] - 8s 16ms/step - loss: 0.3526 - acc: 0.8743 - val_loss: 0.3784 - val_acc: 0.8647\n"
     ]
    }
   ],
   "source": [
    "old =0\n",
    "class myCallback(tf.keras.callbacks.Callback):\n",
    "        def on_epoch_end(self,epoch,logs={}):\n",
    "            global old\n",
    "            if(logs.get('val_acc') > old):\n",
    "                model.save('fashion.h5',overwrite=True)\n",
    "                old = logs.get('val_acc')\n",
    "saver =myCallback()\n",
    "history = model.fit(trainX, trainY,\n",
    "                         batch_size=128, epochs=20,\n",
    "                         verbose=1,validation_data=(testX, testY),callbacks=[saver])"
   ]
  },
  {
   "cell_type": "markdown",
   "metadata": {},
   "source": [
    "Lets visualize how our model performed throughout the training process"
   ]
  },
  {
   "cell_type": "code",
   "execution_count": 29,
   "metadata": {},
   "outputs": [
    {
     "data": {
      "image/png": "[encoded data removed]",
      "text/plain": [
       "<Figure size 432x288 with 1 Axes>"
      ]
     },
     "metadata": {
      "needs_background": "light"
     },
     "output_type": "display_data"
    },
    {
     "data": {
      "image/png": "[encoded data removed]",
      "text/plain": [
       "<Figure size 432x288 with 1 Axes>"
      ]
     },
     "metadata": {
      "needs_background": "light"
     },
     "output_type": "display_data"
    }
   ],
   "source": [
    "acc = history.history['acc']\n",
    "val_acc = history.history['val_acc']\n",
    "loss = history.history['loss']\n",
    "val_loss = history.history['val_loss']\n",
    "\n",
    "epochs = range(len(acc))\n",
    "\n",
    "plt.plot(epochs, acc, 'r', label='Training accuracy')\n",
    "plt.plot(epochs, val_acc, 'b', label='Validation accuracy')\n",
    "plt.title('Training and validation accuracy')\n",
    "plt.legend()\n",
    "plt.figure()\n",
    "\n",
    "plt.plot(epochs, loss, 'r', label='Training Loss')\n",
    "plt.plot(epochs, val_loss, 'b', label='Validation Loss')\n",
    "plt.title('Training and validdation loss')\n",
    "plt.legend()\n",
    "\n",
    "plt.show()"
   ]
  },
  {
   "cell_type": "markdown",
   "metadata": {},
   "source": [
    "## Model Evaluation\n"
   ]
  },
  {
   "cell_type": "code",
   "execution_count": 8,
   "metadata": {},
   "outputs": [
    {
     "data": {
      "image/png": "[encoded data removed]",
      "text/plain": [
       "<Figure size 432x288 with 1 Axes>"
      ]
     },
     "metadata": {
      "needs_background": "light"
     },
     "output_type": "display_data"
    },
    {
     "data": {
      "image/png": "[encoded data removed]",
      "text/plain": [
       "<Figure size 432x288 with 1 Axes>"
      ]
     },
     "metadata": {
      "needs_background": "light"
     },
     "output_type": "display_data"
    },
    {
     "data": {
      "image/png": "[encoded data removed]",
      "text/plain": [
       "<Figure size 432x288 with 1 Axes>"
      ]
     },
     "metadata": {
      "needs_background": "light"
     },
     "output_type": "display_data"
    },
    {
     "data": {
      "image/png": "[encoded data removed]",
      "text/plain": [
       "<Figure size 432x288 with 1 Axes>"
      ]
     },
     "metadata": {
      "needs_background": "light"
     },
     "output_type": "display_data"
    },
    {
     "data": {
      "image/png": "[encoded data removed]",
      "text/plain": [
       "<Figure size 432x288 with 1 Axes>"
      ]
     },
     "metadata": {
      "needs_background": "light"
     },
     "output_type": "display_data"
    }
   ],
   "source": [
    "import cv2\n",
    "import numpy as np\n",
    "from keras.preprocessing import image\n",
    "import matplotlib.pyplot as plt\n",
    "%matplotlib inline\n",
    "\n",
    "model=tf.keras.models.load_model(r'fashion.h5')\n",
    "for i in range(0,5):\n",
    "    img = cv2.imread(r\"fashion{}.png\".format(i)) \n",
    "    img = cv2.cvtColor(img, cv2.COLOR_BGR2GRAY)\n",
    "    x = image.img_to_array(img)\n",
    "    x = np.expand_dims(img, axis=0)\n",
    "    images = np.vstack([x])\n",
    "    classes = model.predict(x, batch_size=4)\n",
    "    classes = np.argmax(classes, axis = 1)\n",
    "    classes = classes[0]\n",
    "    plt.imshow(img)\n",
    "    plt.title(\"OUPUT=\"+labels[classes])\n",
    "    plt.show()"
   ]
  },
  {
   "cell_type": "markdown",
   "metadata": {},
   "source": [
    "# Part 2 Apache Kafka \n",
    "## Pre requisiste: Start/ Setup the kafka and zookeeper kernel server on your local PC\n",
    "### Furthermore run below line of code to start the server and topic\n",
    "#### these kernels can also be started manually if the system paths downt match"
   ]
  },
  {
   "cell_type": "code",
   "execution_count": 12,
   "metadata": {},
   "outputs": [
    {
     "data": {
      "text/plain": [
       "0"
      ]
     },
     "execution_count": 12,
     "metadata": {},
     "output_type": "execute_result"
    }
   ],
   "source": [
    "import os\n",
    "import time\n",
    "os.system('start \"zookeeper\" cmd /k \"cd \"\\\" && C: && cd \"C:\\\\Tools\\\\apache-zookeeper-3.7.0\" && zkserver\"')\n",
    "time.sleep(15)#wait for zookeeper to start and initialize\n",
    "os.system('start \"kafka\" cmd /k \"cd \"\\\" && C: && cd \"C:\\\\Tools\\\\kafka_2.12-2.7.0\" && .\\\\bin\\\\windows\\\\kafka-server-start.bat .\\\\config\\\\server.properties\"')"
   ]
  },
  {
   "cell_type": "code",
   "execution_count": 16,
   "metadata": {},
   "outputs": [
    {
     "data": {
      "text/plain": [
       "0"
      ]
     },
     "execution_count": 16,
     "metadata": {},
     "output_type": "execute_result"
    }
   ],
   "source": []
  },
  {
   "cell_type": "code",
   "execution_count": 43,
   "metadata": {},
   "outputs": [
    {
     "name": "stderr",
     "output_type": "stream",
     "text": [
      "Exception in thread \"main\" joptsimple.UnrecognizedOptionException: zookeeper is not a recognized option\n",
      "\tat joptsimple.OptionException.unrecognizedOption(OptionException.java:108)\n",
      "\tat joptsimple.OptionParser.handleLongOptionToken(OptionParser.java:510)\n",
      "\tat joptsimple.OptionParserState$2.handleArgument(OptionParserState.java:56)\n",
      "\tat joptsimple.OptionParser.parse(OptionParser.java:396)\n",
      "\tat kafka.admin.TopicCommand$TopicCommandOptions.<init>(TopicCommand.scala:517)\n",
      "\tat kafka.admin.TopicCommand$.main(TopicCommand.scala:47)\n",
      "\tat kafka.admin.TopicCommand.main(TopicCommand.scala)\n"
     ]
    }
   ],
   "source": [
    "!C:\\Tools\\kafka_2.13-3.0.0\\bin\\windows\\kafka-topics.bat --create --zookeeper localhost:2181 --replication-factor 1 --partitions 1 --topic numtest"
   ]
  },
  {
   "cell_type": "code",
   "execution_count": 2,
   "metadata": {},
   "outputs": [],
   "source": [
    "from time import sleep\n",
    "from json import dumps\n",
    "from kafka import KafkaProducer\n",
    "from kafka import KafkaConsumer\n",
    "import threading, time\n",
    "from json import loads\n",
    "class Producer():\n",
    "    def __init__(self):\n",
    "        self.producer = KafkaProducer(bootstrap_servers=['localhost:9092'],\n",
    "                         value_serializer=lambda x: \n",
    "                         dumps(x).encode('utf-8'))\n",
    "\n",
    "    def send(self):\n",
    "        data = input(\"input the message you want to send to the host\\n\")\n",
    "        self.producer.send('numtest', value=data)\n",
    "        print(\"data sent!\")\n",
    "        time.sleep(1)\n",
    "    def close(self):\n",
    "        self.producer.close()\n",
    "        \n",
    "        \n",
    "class Consumer():\n",
    "    def __init__(self):\n",
    "        self.consumer = KafkaConsumer(\n",
    "                    'numtest',\n",
    "                     bootstrap_servers=['localhost:9092'],\n",
    "                     auto_offset_reset='earliest',\n",
    "                     enable_auto_commit=True,\n",
    "                     group_id='my-group',\n",
    "                     value_deserializer=lambda x: loads(x.decode('utf-8')),consumer_timeout_ms=10000)\n",
    "    def recieve(self):\n",
    "        print(\"waiting.......\")\n",
    "        for message in self.consumer:\n",
    "            message = message.value\n",
    "            print('\"{}\" recieved'.format(message))\n",
    "    def close(self):\n",
    "        self.consumer.close()"
   ]
  },
  {
   "cell_type": "code",
   "execution_count": 9,
   "metadata": {},
   "outputs": [
    {
     "name": "stdout",
     "output_type": "stream",
     "text": [
      "input the message you want to send to the host\n",
      "hello world\n",
      "data sent!\n"
     ]
    }
   ],
   "source": [
    "app=Producer()\n",
    "app.send()\n",
    "app.close()"
   ]
  },
  {
   "cell_type": "code",
   "execution_count": 3,
   "metadata": {},
   "outputs": [
    {
     "name": "stdout",
     "output_type": "stream",
     "text": [
      "waiting.......\n",
      "\"Ankle boot\" recieved\n"
     ]
    }
   ],
   "source": [
    "client= Consumer()\n",
    "client.recieve()\n",
    "client.close()"
   ]
  },
  {
   "cell_type": "markdown",
   "metadata": {},
   "source": [
    "# Part 3 ML DEPLOYEMENT"
   ]
  },
  {
   "cell_type": "code",
   "execution_count": 8,
   "metadata": {},
   "outputs": [],
   "source": [
    "import time\n",
    "from json import dumps\n",
    "from kafka import KafkaConsumer,KafkaProducer\n",
    "import cv2\n",
    "import logging\n",
    "import numpy as np\n",
    "import codecs, json \n",
    "from pympler.asizeof import asizeof\n",
    "import io\n",
    "import base64\n",
    "from PIL import Image\n",
    "from keras.preprocessing import image\n",
    "from json import loads\n",
    "from tensorflow.keras.models import load_model\n",
    "\n",
    "class MLProducer():\n",
    "    def __init__(self):\n",
    "        self.producer = KafkaProducer(bootstrap_servers=['localhost:9092'],\n",
    "                         value_serializer=lambda x: \n",
    "                         dumps(x).encode('utf-8'))\n",
    "        self.consumer = KafkaConsumer(\n",
    "                    'numtest',\n",
    "                     bootstrap_servers=['localhost:9092'],\n",
    "                     auto_offset_reset='latest',\n",
    "                     enable_auto_commit=True,\n",
    "                     group_id=\"my-group2\",\n",
    "                     value_deserializer=lambda x: loads(x.decode('utf-8')),consumer_timeout_ms=10000)\n",
    "        \n",
    "    def encode_and_transmit_numpy_array_in_bytes(self,numpy_array:np.array) -> str:\n",
    "    # Create a Byte Stream Pointer\n",
    "        compressed_file = io.BytesIO()\n",
    "\n",
    "        # Use PIL JPEG reduction to save the image to bytes\n",
    "        Image.fromarray(numpy_array).save(compressed_file, format=\"JPEG\")\n",
    "\n",
    "        # Set index to start position\n",
    "        compressed_file.seek(0)\n",
    "\n",
    "        # Convert the byte representation to base 64 representation for REST Post\n",
    "        return json.dumps(base64.b64encode(compressed_file.read()).decode())\n",
    "    \n",
    "    def send(self,img):\n",
    "        self.img = img\n",
    "        j_dumps = self.encode_and_transmit_numpy_array_in_bytes(self.img)\n",
    "        self.producer.send('numtest',value=j_dumps)\n",
    "        time.sleep(2)\n",
    "        print(\"data sent!\")\n",
    "        #self.recieve()\n",
    "        \n",
    "        \n",
    "    def recieve(self):\n",
    "        print(\"client waiting.......\")\n",
    "        for message in self.consumer:\n",
    "            if(message.key==b'rep'):\n",
    "                message = message.value\n",
    "                print('\"{}\" recieved from broker'.format(message))\n",
    "            \n",
    "    def close(self):\n",
    "        self.producer.close()\n",
    "    \n",
    "        \n",
    "        \n",
    "class MLConsumer():\n",
    "    \n",
    "    def __init__(self,model_name,labels):\n",
    "        self.labels = labels\n",
    "        self.model_name=model_name\n",
    "        self.model = load_model(model_name)\n",
    "        config = self.model.get_config() \n",
    "        shape = config[\"layers\"][0][\"config\"][\"batch_input_shape\"]\n",
    "        self.input_l = (shape[1],shape[2],shape[3])\n",
    "        self.consumer = KafkaConsumer(\n",
    "                    'numtest',\n",
    "                     bootstrap_servers=['localhost:9092'],\n",
    "                     auto_offset_reset='latest',\n",
    "                     enable_auto_commit=True,\n",
    "                     group_id='my-group',\n",
    "                     value_deserializer=lambda x: loads(x.decode('utf-8')),consumer_timeout_ms=15000)\n",
    "        self.producer = KafkaProducer(bootstrap_servers=['localhost:9092'],\n",
    "                         value_serializer=lambda x: \n",
    "                         dumps(x).encode('utf-8'))\n",
    "        \n",
    "    def receive_and_decode_bytes_to_numpy_array(self,j_dumps:str) -> np.array:\n",
    "        # Convert Base 64 representation to byte representation\n",
    "        compressed_data = base64.b64decode(j_dumps)\n",
    "\n",
    "        # Read byte array to an Image\n",
    "        im = Image.open(io.BytesIO(compressed_data))\n",
    "\n",
    "        # Return Image to numpy array format\n",
    "        return np.array(im)\n",
    "    \n",
    "    def preprocess(self,data):\n",
    "        print(\"pre-processing\")\n",
    "        k = cv2.cvtColor(data, cv2.COLOR_BGR2GRAY)\n",
    "        k= cv2.resize(k,(self.input_l[0],self.input_l[1]))\n",
    "        k = image.img_to_array(k)\n",
    "        k = np.expand_dims(k, axis=0)\n",
    "        k = np.vstack([k])\n",
    "        classes = self.model.predict(k)\n",
    "        classes = np.argmax(classes, axis = 1)\n",
    "        return classes\n",
    "    \n",
    "    def recieve(self):\n",
    "        print(\"waiting.......\")\n",
    "        for message in self.consumer:\n",
    "            print(\"data recieved\")\n",
    "            x = message.value\n",
    "            try:\n",
    "                k= self.receive_and_decode_bytes_to_numpy_array(x)\n",
    "            except:\n",
    "                #print(\"data format incorrect\")\n",
    "                continue\n",
    "            classes = self.preprocess(k)\n",
    "            output = self.labels[classes[0]]\n",
    "            print('\"{}\" predicted by model.....sending to client'.format(output))\n",
    "        self.send(output)\n",
    "            \n",
    "    def send(self,data):\n",
    "        self.data = data\n",
    "        self.producer.send('numtest',key=b'rep', value=self.data)\n",
    "        print(\"data sent!\")\n",
    "                \n",
    "    def close(self):\n",
    "        self.consumer.close()\n",
    "        \n",
    "    \n",
    "        \n",
    "    "
   ]
  },
  {
   "cell_type": "code",
   "execution_count": 9,
   "metadata": {},
   "outputs": [
    {
     "name": "stdout",
     "output_type": "stream",
     "text": [
      "data sent!\n",
      "waiting.......\n",
      "data recieved\n",
      "data recieved\n",
      "pre-processing\n",
      "\"Ankle boot\" predicted by model.....sending to client\n",
      "data sent!\n",
      "client waiting.......\n",
      "\"Ankle boot\" recieved from broker\n"
     ]
    }
   ],
   "source": [
    "img = cv2.imread(r\"fashion0.png\")# change dest to send a different image\n",
    "labels = [\"top\", \"Trouser\", \"Pullover\", \"Dress\", \"Coat\", \"Sandal\", \"Shirt\", \"Sneaker\", \"Bag\", \"Ankle boot\"]\n",
    "\n",
    "client = MLConsumer(r'fashion.h5',labels)\n",
    "app = MLProducer()\n",
    "\n",
    "app.send(img)\n",
    "\n",
    "client.recieve()\n",
    "\n",
    "app.recieve()\n",
    "\n",
    "app.close()\n",
    "client.close()"
   ]
  },
  {
   "cell_type": "code",
   "execution_count": null,
   "metadata": {},
   "outputs": [],
   "source": []
  },
  {
   "cell_type": "code",
   "execution_count": null,
   "metadata": {
    "scrolled": true
   },
   "outputs": [],
   "source": []
  },
  {
   "cell_type": "code",
   "execution_count": null,
   "metadata": {},
   "outputs": [],
   "source": []
  },
  {
   "cell_type": "code",
   "execution_count": null,
   "metadata": {},
   "outputs": [],
   "source": [
    "\n"
   ]
  },
  {
   "cell_type": "code",
   "execution_count": null,
   "metadata": {},
   "outputs": [],
   "source": []
  },
  {
   "cell_type": "code",
   "execution_count": null,
   "metadata": {},
   "outputs": [],
   "source": []
  }
 ],
 "metadata": {
  "kernelspec": {
   "display_name": "Python 3",
   "language": "python",
   "name": "python3"
  },
  "language_info": {
   "codemirror_mode": {
    "name": "ipython",
    "version": 3
   },
   "file_extension": ".py",
   "mimetype": "text/x-python",
   "name": "python",
   "nbconvert_exporter": "python",
   "pygments_lexer": "ipython3",
   "version": "3.7.0"
  }
 },
 "nbformat": 4,
 "nbformat_minor": 2
}
